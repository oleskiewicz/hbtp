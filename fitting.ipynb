{
 "cells": [
  {
   "cell_type": "code",
   "execution_count": 1,
   "metadata": {},
   "outputs": [],
   "source": [
    "import numpy as np\n",
    "from scipy.optimize import curve_fit\n",
    "import matplotlib.pyplot as plt\n",
    "\n",
    "%matplotlib inline\n",
    "\n",
    "from src import nfw\n",
    "from src import einasto"
   ]
  },
  {
   "cell_type": "code",
   "execution_count": 2,
   "metadata": {},
   "outputs": [],
   "source": [
    "x = np.linspace(-2.0, 0.0, 20)\n",
    "ys = np.load(\"ps.npy\")\n",
    "y = np.log10(np.median(np.cumsum(ys, axis=1), axis=0))\n",
    "idx = [7,  8,  9, 10, 11, 12, 13, 14, 15, 16, 17, 18]"
   ]
  },
  {
   "cell_type": "code",
   "execution_count": 3,
   "metadata": {},
   "outputs": [
    {
     "data": {
      "text/plain": [
       "array([-2.90934204, -2.662218  , -2.4215011 , -2.1798283 , -1.95166126,\n",
       "       -1.72331077, -1.52860437, -1.34138851, -1.17944255, -1.03106165,\n",
       "       -0.89897131, -0.77153414, -0.65052721, -0.53687547, -0.42923003,\n",
       "       -0.32629106, -0.23358304, -0.14734346, -0.06970478,  0.        ])"
      ]
     },
     "execution_count": 3,
     "metadata": {},
     "output_type": "execute_result"
    }
   ],
   "source": [
    "y"
   ]
  },
  {
   "cell_type": "code",
   "execution_count": 4,
   "metadata": {},
   "outputs": [],
   "source": [
    "# def d_f(x, c):\n",
    "#     return (c / (np.log(1 + c) - (c / np.log(1 + c)))) * (\n",
    "#      np.divide(1.0, 1.0 + c * x) -\n",
    "#       np.divide(\n",
    "#        np.log(1 + c * x) - np.divide(c * x, 1.0 + c * x),\n",
    "#        np.power(np.log(1 + c * x), 2.0)))\n",
    "\n",
    "def f(x, c):\n",
    "    return np.log10(nfw.m(np.power(10.0, x), c))\n",
    "\n",
    "def d_f(x, c):\n",
    "    return np.log10(nfw.m_diff(np.power(10.0, x), c))"
   ]
  },
  {
   "cell_type": "code",
   "execution_count": 5,
   "metadata": {},
   "outputs": [],
   "source": [
    "c_num = 7.943282347242816"
   ]
  },
  {
   "cell_type": "code",
   "execution_count": 6,
   "metadata": {},
   "outputs": [
    {
     "data": {
      "text/plain": [
       "7.8244643959667703"
      ]
     },
     "execution_count": 6,
     "metadata": {},
     "output_type": "execute_result"
    }
   ],
   "source": [
    "c_fit = curve_fit(f, x[idx], y[idx])[0][0]\n",
    "c_fit"
   ]
  },
  {
   "cell_type": "code",
   "execution_count": 7,
   "metadata": {},
   "outputs": [
    {
     "data": {
      "image/png": "[encoded data removed]",
      "text/plain": [
       "<Figure size 432x288 with 1 Axes>"
      ]
     },
     "metadata": {},
     "output_type": "display_data"
    }
   ],
   "source": [
    "_ = plt.plot(\n",
    "    x, y, 'o',\n",
    "    x[idx], f(x[idx], c_fit),\n",
    "    x, np.log10(np.median(ys, axis=0)), 'o',\n",
    "    x[idx], d_f(x, c_fit)[idx],\n",
    ")"
   ]
  }
 ],
 "metadata": {
  "kernelspec": {
   "display_name": "Python 2",
   "language": "python",
   "name": "python2"
  },
  "language_info": {
   "codemirror_mode": {
    "name": "ipython",
    "version": 2
   },
   "file_extension": ".py",
   "mimetype": "text/x-python",
   "name": "python",
   "nbconvert_exporter": "python",
   "pygments_lexer": "ipython2",
   "version": "2.7.3"
  }
 },
 "nbformat": 4,
 "nbformat_minor": 2
}
